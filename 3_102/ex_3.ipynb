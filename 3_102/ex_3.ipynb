{
 "cells": [
  {
   "cell_type": "code",
   "execution_count": 13,
   "id": "e4b997b2-2fea-45eb-a3c1-b93aa94de348",
   "metadata": {},
   "outputs": [
    {
     "name": "stdout",
     "output_type": "stream",
     "text": [
      "\u001b[?2004h\u001b[?2004l\u001b[?2004l\u001b[?2004l\u001b[?2004l\n",
      "\u001b[?2004h\n"
     ]
    }
   ],
   "source": [
    "graphics_toolkit('qt');\n",
    "format('shorteng');\n",
    "output_precision(6);\n",
    "fixed_point_format(true);"
   ]
  },
  {
   "cell_type": "markdown",
   "id": "5b098454-b89f-460d-ae10-b337503de2fb",
   "metadata": {},
   "source": [
    "# Ex. 3."
   ]
  },
  {
   "cell_type": "code",
   "execution_count": 15,
   "id": "7003fb72-7b93-442e-956a-97debf2581a9",
   "metadata": {},
   "outputs": [
    {
     "name": "stdout",
     "output_type": "stream",
     "text": [
      "\u001b[?2004h\u001b[?2004l\u001b[?2004l\u001b[?2004l\u001b[?2004l\u001b[?2004l\u001b[?2004l\u001b[?2004l\u001b[?2004l\u001b[?2004l\u001b[?2004l\u001b[?2004l\u001b[?2004l\u001b[?2004l\u001b[?2004l\u001b[?2004l\u001b[?2004l\u001b[?2004l\u001b[?2004l\u001b[?2004l\u001b[?2004l\u001b[?2004l\u001b[?2004l\u001b[?2004l\u001b[?2004l\u001b[?2004l\u001b[?2004l\u001b[?2004l\u001b[?2004l\u001b[?2004l\u001b[?2004l\u001b[?2004l\u001b[?2004l\n",
      "\u001b[?2004h\n"
     ]
    }
   ],
   "source": [
    "tm1 = [460\n",
    "453\n",
    "453\n",
    "295\n",
    "295\n",
    "298\n",
    "223\n",
    "228\n",
    "227\n",
    "194\n",
    "196\n",
    "196\n",
    "173\n",
    "172\n",
    "172] * 10^-3;\n",
    "tm2 = [461\n",
    "464\n",
    "466\n",
    "302\n",
    "302\n",
    "303\n",
    "233\n",
    "233\n",
    "232\n",
    "197\n",
    "200\n",
    "199\n",
    "175\n",
    "174\n",
    "174] * 10^-3;\n",
    "l_avg = 4.966666666666667e-02;\n",
    "l_avg_err = 3.333333333333336e-04;"
   ]
  },
  {
   "cell_type": "code",
   "execution_count": 11,
   "id": "25fd468a-fb99-4703-9d53-3fd1ecf4c464",
   "metadata": {},
   "outputs": [
    {
     "name": "stdout",
     "output_type": "stream",
     "text": [
      "\u001b[?2004h\u001b[?2004l\u001b[?2004l\n",
      "\u001b[?2004h\n"
     ]
    }
   ],
   "source": [
    "t1_avgs = series_avgs(tm1, 3);\n",
    "t2_avgs = series_avgs(tm2, 3);"
   ]
  },
  {
   "cell_type": "code",
   "execution_count": 14,
   "id": "115a6dc3-d5e4-441b-9290-57fe18ae2b92",
   "metadata": {},
   "outputs": [
    {
     "name": "stdout",
     "output_type": "stream",
     "text": [
      "t1_avgs =\n",
      "\n",
      "  scalar structure containing the fields:\n",
      "\n",
      "    avgs =\n",
      "\n",
      "     Columns 1 through 4:\n",
      "\n",
      "       455.33333e-03   296.00000e-03   226.00000e-03   195.33333e-03\n",
      "\n",
      "     Column 5:\n",
      "\n",
      "       172.33333e-03\n",
      "\n",
      "    errs =\n",
      "\n",
      "     Columns 1 through 4:\n",
      "\n",
      "         2.33333e-03     1.00000e-03     1.52753e-03   666.66667e-06\n",
      "\n",
      "     Column 5:\n",
      "\n",
      "       333.33333e-06\n",
      "\n",
      "\n",
      "t2_avgs =[?2004l\n",
      "\n",
      "  scalar structure containing the fields:\n",
      "\n",
      "    avgs =\n",
      "\n",
      "     Columns 1 through 4:\n",
      "\n",
      "       463.66667e-03   302.33333e-03   232.66667e-03   198.66667e-03\n",
      "\n",
      "     Column 5:\n",
      "\n",
      "       174.33333e-03\n",
      "\n",
      "    errs =\n",
      "\n",
      "     Columns 1 through 4:\n",
      "\n",
      "         1.45297e-03   333.33333e-06   333.33333e-06   881.91710e-06\n",
      "\n",
      "     Column 5:\n",
      "\n",
      "       333.33333e-06\n",
      "\n",
      "\n",
      "\u001b[?2004h\u001b[?2004l\n",
      "\u001b[?2004h\n"
     ]
    }
   ],
   "source": [
    "t1_avgs\n",
    "t2_avgs"
   ]
  },
  {
   "cell_type": "code",
   "execution_count": null,
   "id": "3db5d254-f97e-4367-85d7-11278dbf3547",
   "metadata": {},
   "outputs": [],
   "source": []
  }
 ],
 "metadata": {
  "kernelspec": {
   "display_name": "Octave",
   "language": "octave",
   "name": "octave"
  },
  "language_info": {
   "file_extension": ".m",
   "help_links": [
    {
     "text": "GNU Octave",
     "url": "https://www.gnu.org/software/octave/support.html"
    },
    {
     "text": "Octave Kernel",
     "url": "https://github.com/Calysto/octave_kernel"
    },
    {
     "text": "MetaKernel Magics",
     "url": "https://metakernel.readthedocs.io/en/latest/source/README.html"
    }
   ],
   "mimetype": "text/x-octave",
   "name": "octave",
   "version": "7.2.0"
  }
 },
 "nbformat": 4,
 "nbformat_minor": 5
}
