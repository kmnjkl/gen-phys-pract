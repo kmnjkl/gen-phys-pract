{
 "cells": [
  {
   "cell_type": "code",
   "execution_count": 8,
   "id": "d3676a64-6644-4a11-877c-e6f17dc03bfd",
   "metadata": {},
   "outputs": [
    {
     "name": "stdout",
     "output_type": "stream",
     "text": [
      "\u001b[?2004h\u001b[?2004l\n",
      "\u001b[?2004h\n"
     ]
    }
   ],
   "source": [
    "load('calcs')"
   ]
  },
  {
   "cell_type": "code",
   "execution_count": 47,
   "id": "05d63833-01a6-4d63-ad86-bf5369d868cb",
   "metadata": {},
   "outputs": [
    {
     "name": "stdout",
     "output_type": "stream",
     "text": [
      "\u001b[?2004h\u001b[?2004l\u001b[?2004l\u001b[?2004l\u001b[?2004l\n",
      "\u001b[?2004h\n"
     ]
    }
   ],
   "source": [
    "graphics_toolkit('qt');\n",
    "format('shorteng');\n",
    "output_precision(6);\n",
    "fixed_point_format(true);"
   ]
  },
  {
   "cell_type": "code",
   "execution_count": 2,
   "id": "1bab22ce-3b42-4d1b-af6e-47a6817fd680",
   "metadata": {},
   "outputs": [
    {
     "name": "stdout",
     "output_type": "stream",
     "text": [
      "\u001b[?2004h\u001b[?2004l\u001b[?2004l\n",
      "\u001b[?2004h\n"
     ]
    }
   ],
   "source": [
    "plot_lin_ls ( h3ls, '{\\Delta}h_2 = 3 мм', ['b', 'b']); plot_lin_ls ( h6_ls, '{\\Delta}h_2 = 6 мм', ['r', 'r']); plot_lin_ls ( h9ls, '{\\Delta}h_2 = 9 мм' ,['g', 'g']);\n",
    "axis([0 1.1 0 0.1]);"
   ]
  },
  {
   "cell_type": "code",
   "execution_count": 3,
   "id": "472f3736-136a-44b1-b949-a0836683c7a7",
   "metadata": {},
   "outputs": [
    {
     "name": "stdout",
     "output_type": "stream",
     "text": [
      "\u001b[?2004h\u001b[?2004l\n",
      "\u001b[?2004h\n"
     ]
    }
   ],
   "source": [
    "legend()"
   ]
  },
  {
   "cell_type": "code",
   "execution_count": 32,
   "id": "00498a3e-52d6-46c9-b017-dac0ca933809",
   "metadata": {},
   "outputs": [
    {
     "name": "stdout",
     "output_type": "stream",
     "text": [
      "h3ls =4h\u001b[?2004l\n",
      "\n",
      "  scalar structure containing the fields:\n",
      "\n",
      "    x =\n",
      "\n",
      "       200.0000e-03   400.0000e-03   600.0000e-03   800.0000e-03     1.0000e+00\n",
      "\n",
      "    y =\n",
      "\n",
      "         4.6079e-03    12.1098e-03    22.4698e-03    30.8005e-03    39.5739e-03\n",
      "\n",
      "    y_err =\n",
      "\n",
      "       113.6953e-06   296.8327e-06   578.3437e-06   924.9752e-06     1.1533e-03\n",
      "\n",
      "    a = 42.6252e-003\n",
      "    b = -4.0006e-003\n",
      "    a_err = 792.7150e-006\n",
      "    b_err = 224.1664e-006\n",
      "\n",
      "h6ls =4h\u001b[?2004l\n",
      "\n",
      "  scalar structure containing the fields:\n",
      "\n",
      "    x =\n",
      "\n",
      "       200.0000e-03   400.0000e-03   600.0000e-03   800.0000e-03     1.0000e+00\n",
      "\n",
      "    y =\n",
      "\n",
      "        11.2947e-03    27.5923e-03    48.1541e-03    64.4312e-03    83.0599e-03\n",
      "\n",
      "    y_err =\n",
      "\n",
      "       290.3550e-06   724.7678e-06     1.1738e-03     1.5745e-03     2.1101e-03\n",
      "\n",
      "    a = 88.9266e-003\n",
      "    b = -6.6126e-003\n",
      "    a_err = 1.5767e-003\n",
      "    b_err = 500.4461e-006\n",
      "\n",
      "h9ls =4h\u001b[?2004l\n",
      "\n",
      "  scalar structure containing the fields:\n",
      "\n",
      "    x =\n",
      "\n",
      "       200.0000e-03   400.0000e-03   600.0000e-03   800.0000e-03     1.0000e+00\n",
      "\n",
      "    y =\n",
      "\n",
      "        21.6776e-03    49.7530e-03    76.9882e-03   101.3633e-03   130.7911e-03\n",
      "\n",
      "    y_err =\n",
      "\n",
      "       531.5137e-06     1.3183e-03     1.9280e-03     2.5650e-03     3.2280e-03\n",
      "\n",
      "    a = 136.0474e-003\n",
      "    b = -5.4306e-003\n",
      "    a_err = 2.5885e-003\n",
      "    b_err = 870.3887e-006\n",
      "\n",
      "\u001b[?2004h\u001b[?2004l\n",
      "\u001b[?2004h\n"
     ]
    }
   ],
   "source": [
    "% Ex.2. 4.\n",
    "h3ls\n",
    "h6ls = h6_ls\n",
    "h9ls"
   ]
  },
  {
   "cell_type": "code",
   "execution_count": 19,
   "id": "c14e1c4a-ef38-4c60-adc1-0c036bbc078e",
   "metadata": {},
   "outputs": [
    {
     "name": "stdout",
     "output_type": "stream",
     "text": [
      "L_avg = 1.2300\n",
      "L_avg_err = 5.7735e-04\n",
      "g = 9.8066?2004l\n",
      "h3 = 3.0000e-03l\n",
      "h6 = 6.0000e-03l\n",
      "h9 = 9.0000e-03l\n",
      "h2_err = 1.0000e-04\n",
      "\u001b[?2004h\u001b[?2004l\n",
      "\u001b[?2004h\n"
     ]
    }
   ],
   "source": [
    "L_avg = L_res.averages\n",
    "L_avg_err = L_res.average_errors\n",
    "g = 9.80665\n",
    "h3 = 3 * 10^-3\n",
    "h6 = 6 * 10^-3\n",
    "h9 = 9 * 10^-3\n",
    "h2_err = 0.1 * 10^-3"
   ]
  },
  {
   "cell_type": "code",
   "execution_count": 48,
   "id": "2fed54ed-6b21-4613-89b7-0458ea94f070",
   "metadata": {},
   "outputs": [
    {
     "name": "stdout",
     "output_type": "stream",
     "text": [
      "ah3 = 21.31260e-003\n",
      "ah3_err = 396.35750e-006\n",
      "t_ah3 = 23.91866e-00304l\u001b[?2004l\n",
      "t_ah3_err = 797.36766e-006\n",
      "\u001b[?2004h\u001b[?2004l\n",
      "\u001b[?2004h\n"
     ]
    }
   ],
   "source": [
    "ah3 = h3ls.a/2\n",
    "ah3_err = h3ls.a_err/2\n",
    "\n",
    "\n",
    "t_ah3 = g * h3 / L_avg\n",
    "t_ah3_err = t_ah3 * rt_sumsq(h2_err / h3, L_avg_err / L_avg)"
   ]
  },
  {
   "cell_type": "code",
   "execution_count": 49,
   "id": "f64584cf-1613-4c09-bc42-295c064d6717",
   "metadata": {},
   "outputs": [
    {
     "name": "stdout",
     "output_type": "stream",
     "text": [
      "ah6 = 44.46328e-003\n",
      "ah6_err = 788.36849e-006\n",
      "t_ah6 = 47.83732e-00304l\n",
      "t_ah6_err = 797.60475e-006\n",
      "\u001b[?2004h\u001b[?2004l\n",
      "\u001b[?2004h\n"
     ]
    }
   ],
   "source": [
    "ah6 = h6ls.a/2\n",
    "ah6_err = h6ls.a_err/2\n",
    "\n",
    "t_ah6 = g * h6 / L_avg\n",
    "t_ah6_err = t_ah6 * rt_sumsq(h2_err / h6, L_avg_err / L_avg)"
   ]
  },
  {
   "cell_type": "code",
   "execution_count": 50,
   "id": "1cd867bd-c0b6-4fed-8c4c-87bf956c5e57",
   "metadata": {},
   "outputs": [
    {
     "name": "stdout",
     "output_type": "stream",
     "text": [
      "ah9 = 68.02370e-003\n",
      "ah9_err = 1.29424e-003\n",
      "t_ah9 = 71.75598e-00304l\n",
      "t_ah9_err = 797.99974e-006\n",
      "\u001b[?2004h\u001b[?2004l\n",
      "\u001b[?2004h\n"
     ]
    }
   ],
   "source": [
    "ah9 = h9ls.a/2\n",
    "ah9_err = h9ls.a_err/2\n",
    "\n",
    "t_ah9 = g * h9 / L_avg\n",
    "t_ah9_err = t_ah9 * rt_sumsq(h2_err / h9, L_avg_err / L_avg)"
   ]
  },
  {
   "cell_type": "code",
   "execution_count": 55,
   "id": "04c3886b-1214-497c-a102-8f23ebb6e805",
   "metadata": {},
   "outputs": [
    {
     "name": "stdout",
     "output_type": "stream",
     "text": [
      "\u001b[?2004h\u001b[?2004l\u001b[?2004l\u001b[?2004l\u001b[?2004l\u001b[?2004l\u001b[?2004l\n",
      "\u001b[?2004h\n"
     ]
    }
   ],
   "source": [
    "clf;\n",
    "plot_points([h3 h6 h9], [h2_err h2_err h2_err], [ah3 ah6 ah9], [ah3_err ah6_err ah9_err], 'b');\n",
    "plot_points([h3 h6 h9], [h2_err h2_err h2_err], [t_ah3 t_ah6 t_ah9], [t_ah3_err t_ah6_err t_ah9_err], 'g');\n",
    "% plot([h3 h6 h9], [ah3 ah6 ah9], 'color', 'b', 'displayname', 'экспериментальные данные - a({\\Delta}h_2)',...\n",
    "    % [h3 h6 h9], [t_ah3 t_ah6 t_ah9], 'color', 'g', 'displayname', 'теоретический рассчёт - a_{теор}({\\Delta}h_2)');\n",
    "std_plot();\n"
   ]
  },
  {
   "cell_type": "code",
   "execution_count": 56,
   "id": "1758cbd9-8530-444e-883f-3610fc888940",
   "metadata": {},
   "outputs": [
    {
     "name": "stdout",
     "output_type": "stream",
     "text": [
      "error: legend: no valid object to label\n",
      "error: called from\n",
      "    legend>parse_opts at line 770 column 7\n",
      "    legend at line 210 column 8\n",
      "\u001b[?2004h\u001b[?2004l\u001b[?2004l\u001b[?2004l\u001b[?2004l\n",
      "\u001b[?2004h\n"
     ]
    }
   ],
   "source": [
    "legend('location', 'southeast');\n",
    "xlabel('{\\Delta}h_2 (м)');\n",
    "ylabel('ускорение (м/с^2)');\n",
    "xticks([h3 h6 h9]);"
   ]
  },
  {
   "cell_type": "markdown",
   "id": "eb1226d9-d77e-433c-b599-fdba6ba0c060",
   "metadata": {},
   "source": [
    "# Ex. 3."
   ]
  },
  {
   "cell_type": "code",
   "execution_count": 61,
   "id": "658d7e76-3c2a-4d00-b7da-4c4595d77928",
   "metadata": {},
   "outputs": [
    {
     "name": "stdout",
     "output_type": "stream",
     "text": [
      "l_avg = 4.966666666666667e-02\n",
      "ans = 3.333333333333336e-04\n",
      "\u001b[?2004h\u001b[?2004l\n",
      "\u001b[?2004h\n"
     ]
    }
   ],
   "source": [
    "format long\n",
    "l_avg\n",
    "l_res.average_errors"
   ]
  },
  {
   "cell_type": "code",
   "execution_count": null,
   "id": "19e223e9-4334-4252-8d74-a379dd0064d6",
   "metadata": {},
   "outputs": [],
   "source": []
  }
 ],
 "metadata": {
  "kernelspec": {
   "display_name": "Octave",
   "language": "octave",
   "name": "octave"
  },
  "language_info": {
   "file_extension": ".m",
   "help_links": [
    {
     "text": "GNU Octave",
     "url": "https://www.gnu.org/software/octave/support.html"
    },
    {
     "text": "Octave Kernel",
     "url": "https://github.com/Calysto/octave_kernel"
    },
    {
     "text": "MetaKernel Magics",
     "url": "https://metakernel.readthedocs.io/en/latest/source/README.html"
    }
   ],
   "mimetype": "text/x-octave",
   "name": "octave",
   "version": "7.2.0"
  }
 },
 "nbformat": 4,
 "nbformat_minor": 5
}
